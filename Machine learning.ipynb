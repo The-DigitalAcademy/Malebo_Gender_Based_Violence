{
 "cells": [
  {
   "cell_type": "code",
   "execution_count": 2,
   "metadata": {},
   "outputs": [
    {
     "name": "stderr",
     "output_type": "stream",
     "text": [
      "[nltk_data] Downloading package punkt to /Users/da_m1_46/nltk_data...\n",
      "[nltk_data]   Package punkt is already up-to-date!\n",
      "[nltk_data] Downloading package stopwords to\n",
      "[nltk_data]     /Users/da_m1_46/nltk_data...\n",
      "[nltk_data]   Package stopwords is already up-to-date!\n",
      "[nltk_data] Downloading package wordnet to\n",
      "[nltk_data]     /Users/da_m1_46/nltk_data...\n",
      "[nltk_data]   Package wordnet is already up-to-date!\n",
      "[nltk_data] Downloading package omw-1.4 to\n",
      "[nltk_data]     /Users/da_m1_46/nltk_data...\n",
      "[nltk_data]   Package omw-1.4 is already up-to-date!\n"
     ]
    }
   ],
   "source": [
    "import pandas as pd\n",
    "import numpy as np\n",
    "import matplotlib.pyplot as plt\n",
    "import seaborn as sns\n",
    "import re\n",
    "import nltk\n",
    "from nltk.corpus import stopwords\n",
    "from nltk.tokenize import word_tokenize\n",
    "from nltk.stem import WordNetLemmatizer\n",
    "from wordcloud import WordCloud\n",
    "from sklearn.feature_extraction.text import TfidfVectorizer\n",
    "from sklearn.svm import SVC\n",
    "from sklearn.metrics import accuracy_score\n",
    "\n",
    "\n",
    "nltk.download('punkt')\n",
    "nltk.download('stopwords')\n",
    "nltk.download('wordnet')\n",
    "nltk.download('omw-1.4')\n",
    "from sklearn.svm import LinearSVC"
   ]
  },
  {
   "cell_type": "code",
   "execution_count": 3,
   "metadata": {},
   "outputs": [],
   "source": [
    "train_data = pd.read_csv('Train (1).csv')\n",
    "test_data = pd.read_csv('Test (1).csv')"
   ]
  },
  {
   "cell_type": "code",
   "execution_count": 4,
   "metadata": {},
   "outputs": [
    {
     "data": {
      "text/html": [
       "<div>\n",
       "<style scoped>\n",
       "    .dataframe tbody tr th:only-of-type {\n",
       "        vertical-align: middle;\n",
       "    }\n",
       "\n",
       "    .dataframe tbody tr th {\n",
       "        vertical-align: top;\n",
       "    }\n",
       "\n",
       "    .dataframe thead th {\n",
       "        text-align: right;\n",
       "    }\n",
       "</style>\n",
       "<table border=\"1\" class=\"dataframe\">\n",
       "  <thead>\n",
       "    <tr style=\"text-align: right;\">\n",
       "      <th></th>\n",
       "      <th>Tweet_ID</th>\n",
       "      <th>tweet</th>\n",
       "      <th>type</th>\n",
       "    </tr>\n",
       "  </thead>\n",
       "  <tbody>\n",
       "    <tr>\n",
       "      <th>0</th>\n",
       "      <td>ID_0022DWKP</td>\n",
       "      <td>Had a dream i got raped last night. By a guy i...</td>\n",
       "      <td>sexual_violence</td>\n",
       "    </tr>\n",
       "    <tr>\n",
       "      <th>1</th>\n",
       "      <td>ID_00395QYM</td>\n",
       "      <td>he thought the word raped means sex and told m...</td>\n",
       "      <td>sexual_violence</td>\n",
       "    </tr>\n",
       "    <tr>\n",
       "      <th>2</th>\n",
       "      <td>ID_003EOSSF</td>\n",
       "      <td>She NOT TALKING TO ME I WAS RAPED BY 2 MEN 1 M...</td>\n",
       "      <td>sexual_violence</td>\n",
       "    </tr>\n",
       "    <tr>\n",
       "      <th>3</th>\n",
       "      <td>ID_004BBHOD</td>\n",
       "      <td>I was sexually abused for 3 years at age 4 to ...</td>\n",
       "      <td>sexual_violence</td>\n",
       "    </tr>\n",
       "    <tr>\n",
       "      <th>4</th>\n",
       "      <td>ID_004F7516</td>\n",
       "      <td>Chessy Prout can do better by telling the trut...</td>\n",
       "      <td>sexual_violence</td>\n",
       "    </tr>\n",
       "    <tr>\n",
       "      <th>...</th>\n",
       "      <td>...</td>\n",
       "      <td>...</td>\n",
       "      <td>...</td>\n",
       "    </tr>\n",
       "    <tr>\n",
       "      <th>39645</th>\n",
       "      <td>ID_ZZTLP2L5</td>\n",
       "      <td>ENTRY 1299: 21F. 23M, BF’s cousin. Got drunk o...</td>\n",
       "      <td>sexual_violence</td>\n",
       "    </tr>\n",
       "    <tr>\n",
       "      <th>39646</th>\n",
       "      <td>ID_ZZXB10M6</td>\n",
       "      <td>So you’re telling me Emmanuel Macron was groom...</td>\n",
       "      <td>sexual_violence</td>\n",
       "    </tr>\n",
       "    <tr>\n",
       "      <th>39647</th>\n",
       "      <td>ID_ZZY8B7FJ</td>\n",
       "      <td>My wife regularly beats me, I get dirty slaps ...</td>\n",
       "      <td>Physical_violence</td>\n",
       "    </tr>\n",
       "    <tr>\n",
       "      <th>39648</th>\n",
       "      <td>ID_ZZYAFD8L</td>\n",
       "      <td>Me: Hey babe! Police officer boyfriend: is tha...</td>\n",
       "      <td>sexual_violence</td>\n",
       "    </tr>\n",
       "    <tr>\n",
       "      <th>39649</th>\n",
       "      <td>ID_ZZZ8QEKT</td>\n",
       "      <td>“I will take accountability if you think it’s ...</td>\n",
       "      <td>sexual_violence</td>\n",
       "    </tr>\n",
       "  </tbody>\n",
       "</table>\n",
       "<p>39650 rows × 3 columns</p>\n",
       "</div>"
      ],
      "text/plain": [
       "          Tweet_ID                                              tweet  \\\n",
       "0      ID_0022DWKP  Had a dream i got raped last night. By a guy i...   \n",
       "1      ID_00395QYM  he thought the word raped means sex and told m...   \n",
       "2      ID_003EOSSF  She NOT TALKING TO ME I WAS RAPED BY 2 MEN 1 M...   \n",
       "3      ID_004BBHOD  I was sexually abused for 3 years at age 4 to ...   \n",
       "4      ID_004F7516  Chessy Prout can do better by telling the trut...   \n",
       "...            ...                                                ...   \n",
       "39645  ID_ZZTLP2L5  ENTRY 1299: 21F. 23M, BF’s cousin. Got drunk o...   \n",
       "39646  ID_ZZXB10M6  So you’re telling me Emmanuel Macron was groom...   \n",
       "39647  ID_ZZY8B7FJ  My wife regularly beats me, I get dirty slaps ...   \n",
       "39648  ID_ZZYAFD8L  Me: Hey babe! Police officer boyfriend: is tha...   \n",
       "39649  ID_ZZZ8QEKT  “I will take accountability if you think it’s ...   \n",
       "\n",
       "                    type  \n",
       "0        sexual_violence  \n",
       "1        sexual_violence  \n",
       "2        sexual_violence  \n",
       "3        sexual_violence  \n",
       "4        sexual_violence  \n",
       "...                  ...  \n",
       "39645    sexual_violence  \n",
       "39646    sexual_violence  \n",
       "39647  Physical_violence  \n",
       "39648    sexual_violence  \n",
       "39649    sexual_violence  \n",
       "\n",
       "[39650 rows x 3 columns]"
      ]
     },
     "execution_count": 4,
     "metadata": {},
     "output_type": "execute_result"
    }
   ],
   "source": [
    "train_data"
   ]
  },
  {
   "cell_type": "code",
   "execution_count": 5,
   "metadata": {},
   "outputs": [
    {
     "data": {
      "text/html": [
       "<div>\n",
       "<style scoped>\n",
       "    .dataframe tbody tr th:only-of-type {\n",
       "        vertical-align: middle;\n",
       "    }\n",
       "\n",
       "    .dataframe tbody tr th {\n",
       "        vertical-align: top;\n",
       "    }\n",
       "\n",
       "    .dataframe thead th {\n",
       "        text-align: right;\n",
       "    }\n",
       "</style>\n",
       "<table border=\"1\" class=\"dataframe\">\n",
       "  <thead>\n",
       "    <tr style=\"text-align: right;\">\n",
       "      <th></th>\n",
       "      <th>Tweet_ID</th>\n",
       "      <th>tweet</th>\n",
       "    </tr>\n",
       "  </thead>\n",
       "  <tbody>\n",
       "    <tr>\n",
       "      <th>0</th>\n",
       "      <td>ID_0095QL4S</td>\n",
       "      <td>because he was my boyfriend, and if I said no,...</td>\n",
       "    </tr>\n",
       "    <tr>\n",
       "      <th>1</th>\n",
       "      <td>ID_00DREW5O</td>\n",
       "      <td>lol no, I'm telling you it's not legal. It's l...</td>\n",
       "    </tr>\n",
       "    <tr>\n",
       "      <th>2</th>\n",
       "      <td>ID_00E9F5X9</td>\n",
       "      <td>Somalia's semi-autonomous Puntland region has ...</td>\n",
       "    </tr>\n",
       "    <tr>\n",
       "      <th>3</th>\n",
       "      <td>ID_00G9OSKZ</td>\n",
       "      <td>University of Cape Coast students being robbed...</td>\n",
       "    </tr>\n",
       "    <tr>\n",
       "      <th>4</th>\n",
       "      <td>ID_00HU96U6</td>\n",
       "      <td>\"Somebody came up behind him and stabbed him i...</td>\n",
       "    </tr>\n",
       "    <tr>\n",
       "      <th>...</th>\n",
       "      <td>...</td>\n",
       "      <td>...</td>\n",
       "    </tr>\n",
       "    <tr>\n",
       "      <th>15576</th>\n",
       "      <td>ID_ZZR1D21T</td>\n",
       "      <td>A Teesside charity has filed a “super complain...</td>\n",
       "    </tr>\n",
       "    <tr>\n",
       "      <th>15577</th>\n",
       "      <td>ID_ZZSQF54Y</td>\n",
       "      <td>he ... forced me to have sex with him.</td>\n",
       "    </tr>\n",
       "    <tr>\n",
       "      <th>15578</th>\n",
       "      <td>ID_ZZTN5126</td>\n",
       "      <td>Female student of medical university raped at ...</td>\n",
       "    </tr>\n",
       "    <tr>\n",
       "      <th>15579</th>\n",
       "      <td>ID_ZZWS0XZZ</td>\n",
       "      <td>Bokamoso Mpembe (20 months) (Kidnapped and kil...</td>\n",
       "    </tr>\n",
       "    <tr>\n",
       "      <th>15580</th>\n",
       "      <td>ID_ZZZE5A5Q</td>\n",
       "      <td>Confession: Never Really Over reminds me of my...</td>\n",
       "    </tr>\n",
       "  </tbody>\n",
       "</table>\n",
       "<p>15581 rows × 2 columns</p>\n",
       "</div>"
      ],
      "text/plain": [
       "          Tweet_ID                                              tweet\n",
       "0      ID_0095QL4S  because he was my boyfriend, and if I said no,...\n",
       "1      ID_00DREW5O  lol no, I'm telling you it's not legal. It's l...\n",
       "2      ID_00E9F5X9  Somalia's semi-autonomous Puntland region has ...\n",
       "3      ID_00G9OSKZ  University of Cape Coast students being robbed...\n",
       "4      ID_00HU96U6  \"Somebody came up behind him and stabbed him i...\n",
       "...            ...                                                ...\n",
       "15576  ID_ZZR1D21T  A Teesside charity has filed a “super complain...\n",
       "15577  ID_ZZSQF54Y             he ... forced me to have sex with him.\n",
       "15578  ID_ZZTN5126  Female student of medical university raped at ...\n",
       "15579  ID_ZZWS0XZZ  Bokamoso Mpembe (20 months) (Kidnapped and kil...\n",
       "15580  ID_ZZZE5A5Q  Confession: Never Really Over reminds me of my...\n",
       "\n",
       "[15581 rows x 2 columns]"
      ]
     },
     "execution_count": 5,
     "metadata": {},
     "output_type": "execute_result"
    }
   ],
   "source": [
    "test_data"
   ]
  },
  {
   "cell_type": "code",
   "execution_count": 6,
   "metadata": {},
   "outputs": [
    {
     "name": "stdout",
     "output_type": "stream",
     "text": [
      "Total Records of Dataset : 39650\n",
      "Total Records of Dataset : 15581\n"
     ]
    }
   ],
   "source": [
    "# total records\n",
    "print(\"Total Records of Dataset : {}\".format(len(train_data)))\n",
    "print(\"Total Records of Dataset : {}\".format(len(test_data)))"
   ]
  },
  {
   "cell_type": "code",
   "execution_count": 7,
   "metadata": {},
   "outputs": [
    {
     "name": "stdout",
     "output_type": "stream",
     "text": [
      "Missing Data Report of each Features : \n",
      "Tweet_ID    0\n",
      "tweet       0\n",
      "type        0\n",
      "dtype: int64\n"
     ]
    },
    {
     "data": {
      "image/png": "[encoded data removed]",
      "text/plain": [
       "<Figure size 640x480 with 2 Axes>"
      ]
     },
     "metadata": {},
     "output_type": "display_data"
    }
   ],
   "source": [
    "# missing data management\n",
    "print(\"Missing Data Report of each Features : \\n{}\".format(train_data.isna().sum()))\n",
    "\n",
    "sns.heatmap(\n",
    "    train_data.isna(),\n",
    "    cbar = 'viridis',\n",
    "    yticklabels = False\n",
    ")\n",
    "plt.xlabel('features')\n",
    "plt.ylabel('missing data')\n",
    "plt.title('heatmap for missing data')\n",
    "plt.show()\n",
    "plt.close()"
   ]
  },
  {
   "attachments": {},
   "cell_type": "markdown",
   "metadata": {},
   "source": [
    "# Data cleaning"
   ]
  },
  {
   "attachments": {},
   "cell_type": "markdown",
   "metadata": {},
   "source": [
    "Convert text to lowercase"
   ]
  },
  {
   "cell_type": "code",
   "execution_count": 8,
   "metadata": {},
   "outputs": [],
   "source": [
    "train_data['cleaned_tweet'] = train_data['tweet'].str.lower()\n",
    "test_data['cleaned_tweet'] = test_data['tweet'].str.lower()"
   ]
  },
  {
   "attachments": {},
   "cell_type": "markdown",
   "metadata": {},
   "source": [
    "Remove special characters and digits"
   ]
  },
  {
   "cell_type": "code",
   "execution_count": 9,
   "metadata": {},
   "outputs": [],
   "source": [
    "train_data['cleaned_tweet'] = train_data['cleaned_tweet'].apply(lambda x: re.sub(r'[^\\w\\s]', '', x))\n",
    "test_data['cleaned_tweet'] = test_data['cleaned_tweet'].apply(lambda x: re.sub(r'[^\\w\\s]', '', x))"
   ]
  },
  {
   "attachments": {},
   "cell_type": "markdown",
   "metadata": {},
   "source": [
    "Tokenize the text"
   ]
  },
  {
   "cell_type": "code",
   "execution_count": 10,
   "metadata": {},
   "outputs": [],
   "source": [
    "train_data['cleaned_tweet'] = train_data['cleaned_tweet'].apply(word_tokenize)\n",
    "test_data['cleaned_tweet'] = test_data['cleaned_tweet'].apply(word_tokenize)"
   ]
  },
  {
   "attachments": {},
   "cell_type": "markdown",
   "metadata": {},
   "source": [
    "Remove stopwords"
   ]
  },
  {
   "cell_type": "code",
   "execution_count": 11,
   "metadata": {},
   "outputs": [],
   "source": [
    "stop_words = set(stopwords.words('english'))\n",
    "train_data['cleaned_tweet'] = train_data['cleaned_tweet'].apply(lambda x: [word for word in x if word not in stop_words])\n",
    "test_data['cleaned_tweet'] = test_data['cleaned_tweet'].apply(lambda x: [word for word in x if word not in stop_words])"
   ]
  },
  {
   "attachments": {},
   "cell_type": "markdown",
   "metadata": {},
   "source": [
    "Lemmatize words"
   ]
  },
  {
   "cell_type": "code",
   "execution_count": 12,
   "metadata": {},
   "outputs": [],
   "source": [
    "lemmatizer = WordNetLemmatizer()\n",
    "train_data['cleaned_tweet'] = train_data['cleaned_tweet'].apply(lambda x: [lemmatizer.lemmatize(word) for word in x])\n",
    "test_data['cleaned_tweet'] = test_data['cleaned_tweet'].apply(lambda x: [lemmatizer.lemmatize(word) for word in x])"
   ]
  },
  {
   "attachments": {},
   "cell_type": "markdown",
   "metadata": {},
   "source": [
    "Join the cleaned words to form a cleaned sentence"
   ]
  },
  {
   "cell_type": "code",
   "execution_count": 13,
   "metadata": {},
   "outputs": [],
   "source": [
    "train_data['cleaned_tweet'] = train_data['cleaned_tweet'].apply(lambda x: ' '.join(x))\n",
    "test_data['cleaned_tweet'] = test_data['cleaned_tweet'].apply(lambda x: ' '.join(x))"
   ]
  }
 ],
 "metadata": {
  "kernelspec": {
   "display_name": "base",
   "language": "python",
   "name": "python3"
  },
  "language_info": {
   "codemirror_mode": {
    "name": "ipython",
    "version": 3
   },
   "file_extension": ".py",
   "mimetype": "text/x-python",
   "name": "python",
   "nbconvert_exporter": "python",
   "pygments_lexer": "ipython3",
   "version": "3.10.9"
  },
  "orig_nbformat": 4
 },
 "nbformat": 4,
 "nbformat_minor": 2
}
